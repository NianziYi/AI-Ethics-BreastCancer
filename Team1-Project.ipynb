{
 "cells": [
  {
   "cell_type": "code",
   "execution_count": 1,
   "metadata": {},
   "outputs": [],
   "source": [
    "from sklearn.metrics import confusion_matrix, accuracy_score, f1_score, ConfusionMatrixDisplay\n",
    "from sklearn.ensemble import RandomForestClassifier\n",
    "from sklearn.model_selection import cross_val_score\n",
    "from sklearn.inspection import permutation_importance\n",
    "import matplotlib.pyplot as plt\n",
    "import pandas as pd\n",
    "import numpy as np\n",
    "import math"
   ]
  },
  {
   "cell_type": "markdown",
   "metadata": {},
   "source": [
    "# Read Data"
   ]
  },
  {
   "cell_type": "code",
   "execution_count": 2,
   "metadata": {},
   "outputs": [],
   "source": [
    "#create the dataframe by reading 'breast.csv' file\n",
    "df = pd.read_csv('breast.csv')"
   ]
  },
  {
   "cell_type": "code",
   "execution_count": 30,
   "metadata": {},
   "outputs": [
    {
     "data": {
      "text/html": [
       "<div>\n",
       "<style scoped>\n",
       "    .dataframe tbody tr th:only-of-type {\n",
       "        vertical-align: middle;\n",
       "    }\n",
       "\n",
       "    .dataframe tbody tr th {\n",
       "        vertical-align: top;\n",
       "    }\n",
       "\n",
       "    .dataframe thead th {\n",
       "        text-align: right;\n",
       "    }\n",
       "</style>\n",
       "<table border=\"1\" class=\"dataframe\">\n",
       "  <thead>\n",
       "    <tr style=\"text-align: right;\">\n",
       "      <th></th>\n",
       "      <th>Age</th>\n",
       "      <th>BMI</th>\n",
       "      <th>Glucose</th>\n",
       "      <th>Insulin</th>\n",
       "      <th>HOMA</th>\n",
       "      <th>Leptin</th>\n",
       "      <th>Adiponectin</th>\n",
       "      <th>Resistin</th>\n",
       "      <th>MCP.1</th>\n",
       "      <th>Classification</th>\n",
       "    </tr>\n",
       "  </thead>\n",
       "  <tbody>\n",
       "    <tr>\n",
       "      <th>0</th>\n",
       "      <td>48</td>\n",
       "      <td>23.500000</td>\n",
       "      <td>70</td>\n",
       "      <td>2.707</td>\n",
       "      <td>0.467409</td>\n",
       "      <td>8.8071</td>\n",
       "      <td>9.702400</td>\n",
       "      <td>7.99585</td>\n",
       "      <td>417.114</td>\n",
       "      <td>0</td>\n",
       "    </tr>\n",
       "    <tr>\n",
       "      <th>1</th>\n",
       "      <td>83</td>\n",
       "      <td>20.690495</td>\n",
       "      <td>92</td>\n",
       "      <td>3.115</td>\n",
       "      <td>0.706897</td>\n",
       "      <td>8.8438</td>\n",
       "      <td>5.429285</td>\n",
       "      <td>4.06405</td>\n",
       "      <td>468.786</td>\n",
       "      <td>0</td>\n",
       "    </tr>\n",
       "    <tr>\n",
       "      <th>2</th>\n",
       "      <td>82</td>\n",
       "      <td>23.124670</td>\n",
       "      <td>91</td>\n",
       "      <td>4.498</td>\n",
       "      <td>1.009651</td>\n",
       "      <td>17.9393</td>\n",
       "      <td>22.432040</td>\n",
       "      <td>9.27715</td>\n",
       "      <td>554.697</td>\n",
       "      <td>0</td>\n",
       "    </tr>\n",
       "    <tr>\n",
       "      <th>3</th>\n",
       "      <td>68</td>\n",
       "      <td>21.367521</td>\n",
       "      <td>77</td>\n",
       "      <td>3.226</td>\n",
       "      <td>0.612725</td>\n",
       "      <td>9.8827</td>\n",
       "      <td>7.169560</td>\n",
       "      <td>12.76600</td>\n",
       "      <td>928.220</td>\n",
       "      <td>0</td>\n",
       "    </tr>\n",
       "    <tr>\n",
       "      <th>4</th>\n",
       "      <td>86</td>\n",
       "      <td>21.111111</td>\n",
       "      <td>92</td>\n",
       "      <td>3.549</td>\n",
       "      <td>0.805386</td>\n",
       "      <td>6.6994</td>\n",
       "      <td>4.819240</td>\n",
       "      <td>10.57635</td>\n",
       "      <td>773.920</td>\n",
       "      <td>0</td>\n",
       "    </tr>\n",
       "    <tr>\n",
       "      <th>...</th>\n",
       "      <td>...</td>\n",
       "      <td>...</td>\n",
       "      <td>...</td>\n",
       "      <td>...</td>\n",
       "      <td>...</td>\n",
       "      <td>...</td>\n",
       "      <td>...</td>\n",
       "      <td>...</td>\n",
       "      <td>...</td>\n",
       "      <td>...</td>\n",
       "    </tr>\n",
       "    <tr>\n",
       "      <th>111</th>\n",
       "      <td>45</td>\n",
       "      <td>26.850000</td>\n",
       "      <td>92</td>\n",
       "      <td>3.330</td>\n",
       "      <td>0.755688</td>\n",
       "      <td>54.6800</td>\n",
       "      <td>12.100000</td>\n",
       "      <td>10.96000</td>\n",
       "      <td>268.230</td>\n",
       "      <td>1</td>\n",
       "    </tr>\n",
       "    <tr>\n",
       "      <th>112</th>\n",
       "      <td>62</td>\n",
       "      <td>26.840000</td>\n",
       "      <td>100</td>\n",
       "      <td>4.530</td>\n",
       "      <td>1.117400</td>\n",
       "      <td>12.4500</td>\n",
       "      <td>21.420000</td>\n",
       "      <td>7.32000</td>\n",
       "      <td>330.160</td>\n",
       "      <td>1</td>\n",
       "    </tr>\n",
       "    <tr>\n",
       "      <th>113</th>\n",
       "      <td>65</td>\n",
       "      <td>32.050000</td>\n",
       "      <td>97</td>\n",
       "      <td>5.730</td>\n",
       "      <td>1.370998</td>\n",
       "      <td>61.4800</td>\n",
       "      <td>22.540000</td>\n",
       "      <td>10.33000</td>\n",
       "      <td>314.050</td>\n",
       "      <td>1</td>\n",
       "    </tr>\n",
       "    <tr>\n",
       "      <th>114</th>\n",
       "      <td>72</td>\n",
       "      <td>25.590000</td>\n",
       "      <td>82</td>\n",
       "      <td>2.820</td>\n",
       "      <td>0.570392</td>\n",
       "      <td>24.9600</td>\n",
       "      <td>33.750000</td>\n",
       "      <td>3.27000</td>\n",
       "      <td>392.460</td>\n",
       "      <td>1</td>\n",
       "    </tr>\n",
       "    <tr>\n",
       "      <th>115</th>\n",
       "      <td>86</td>\n",
       "      <td>27.180000</td>\n",
       "      <td>138</td>\n",
       "      <td>19.910</td>\n",
       "      <td>6.777364</td>\n",
       "      <td>90.2800</td>\n",
       "      <td>14.110000</td>\n",
       "      <td>4.35000</td>\n",
       "      <td>90.090</td>\n",
       "      <td>1</td>\n",
       "    </tr>\n",
       "  </tbody>\n",
       "</table>\n",
       "<p>116 rows × 10 columns</p>\n",
       "</div>"
      ],
      "text/plain": [
       "     Age        BMI  Glucose  Insulin      HOMA   Leptin  Adiponectin  \\\n",
       "0     48  23.500000       70    2.707  0.467409   8.8071     9.702400   \n",
       "1     83  20.690495       92    3.115  0.706897   8.8438     5.429285   \n",
       "2     82  23.124670       91    4.498  1.009651  17.9393    22.432040   \n",
       "3     68  21.367521       77    3.226  0.612725   9.8827     7.169560   \n",
       "4     86  21.111111       92    3.549  0.805386   6.6994     4.819240   \n",
       "..   ...        ...      ...      ...       ...      ...          ...   \n",
       "111   45  26.850000       92    3.330  0.755688  54.6800    12.100000   \n",
       "112   62  26.840000      100    4.530  1.117400  12.4500    21.420000   \n",
       "113   65  32.050000       97    5.730  1.370998  61.4800    22.540000   \n",
       "114   72  25.590000       82    2.820  0.570392  24.9600    33.750000   \n",
       "115   86  27.180000      138   19.910  6.777364  90.2800    14.110000   \n",
       "\n",
       "     Resistin    MCP.1  Classification  \n",
       "0     7.99585  417.114               0  \n",
       "1     4.06405  468.786               0  \n",
       "2     9.27715  554.697               0  \n",
       "3    12.76600  928.220               0  \n",
       "4    10.57635  773.920               0  \n",
       "..        ...      ...             ...  \n",
       "111  10.96000  268.230               1  \n",
       "112   7.32000  330.160               1  \n",
       "113  10.33000  314.050               1  \n",
       "114   3.27000  392.460               1  \n",
       "115   4.35000   90.090               1  \n",
       "\n",
       "[116 rows x 10 columns]"
      ]
     },
     "execution_count": 30,
     "metadata": {},
     "output_type": "execute_result"
    }
   ],
   "source": [
    "#display the dataframe\n",
    "df"
   ]
  },
  {
   "cell_type": "code",
   "execution_count": 31,
   "metadata": {},
   "outputs": [
    {
     "data": {
      "text/html": [
       "<div>\n",
       "<style scoped>\n",
       "    .dataframe tbody tr th:only-of-type {\n",
       "        vertical-align: middle;\n",
       "    }\n",
       "\n",
       "    .dataframe tbody tr th {\n",
       "        vertical-align: top;\n",
       "    }\n",
       "\n",
       "    .dataframe thead th {\n",
       "        text-align: right;\n",
       "    }\n",
       "</style>\n",
       "<table border=\"1\" class=\"dataframe\">\n",
       "  <thead>\n",
       "    <tr style=\"text-align: right;\">\n",
       "      <th></th>\n",
       "      <th>Age</th>\n",
       "      <th>BMI</th>\n",
       "      <th>Glucose</th>\n",
       "      <th>Insulin</th>\n",
       "      <th>HOMA</th>\n",
       "      <th>Leptin</th>\n",
       "      <th>Adiponectin</th>\n",
       "      <th>Resistin</th>\n",
       "      <th>MCP.1</th>\n",
       "      <th>Classification</th>\n",
       "    </tr>\n",
       "  </thead>\n",
       "  <tbody>\n",
       "  </tbody>\n",
       "</table>\n",
       "</div>"
      ],
      "text/plain": [
       "Empty DataFrame\n",
       "Columns: [Age, BMI, Glucose, Insulin, HOMA, Leptin, Adiponectin, Resistin, MCP.1, Classification]\n",
       "Index: []"
      ]
     },
     "execution_count": 31,
     "metadata": {},
     "output_type": "execute_result"
    }
   ],
   "source": [
    "#check if there is no missing data, this will tell us how many missing data we have\n",
    "df[df.isna().sum(axis=1) > 0]"
   ]
  },
  {
   "cell_type": "code",
   "execution_count": 32,
   "metadata": {},
   "outputs": [
    {
     "data": {
      "text/plain": [
       "52"
      ]
     },
     "execution_count": 32,
     "metadata": {},
     "output_type": "execute_result"
    }
   ],
   "source": [
    "#find number of negative(-) class\n",
    "num_of_negative = len(df[df.Classification == 0])\n",
    "num_of_negative"
   ]
  },
  {
   "cell_type": "code",
   "execution_count": 33,
   "metadata": {},
   "outputs": [
    {
     "data": {
      "text/plain": [
       "64"
      ]
     },
     "execution_count": 33,
     "metadata": {},
     "output_type": "execute_result"
    }
   ],
   "source": [
    "#find number of positve(+) class\n",
    "num_of_positive = len(df[df.Classification == 1])\n",
    "num_of_positive"
   ]
  },
  {
   "cell_type": "markdown",
   "metadata": {},
   "source": [
    "## find AV and SD"
   ]
  },
  {
   "cell_type": "code",
   "execution_count": 53,
   "metadata": {},
   "outputs": [],
   "source": [
    "negative_sample = df[df.Classification == 0]\n",
    "positive_sample = df[df.Classification == 1]"
   ]
  },
  {
   "cell_type": "markdown",
   "metadata": {},
   "source": [
    "#### find AV"
   ]
  },
  {
   "cell_type": "code",
   "execution_count": 54,
   "metadata": {},
   "outputs": [
    {
     "name": "stdout",
     "output_type": "stream",
     "text": [
      "mean of age+:  56.671875\n",
      "mean of age-:  58.07692307692308\n",
      "mean of bmi+:  26.984740162968748\n",
      "mean of bmi-:  28.317336260576926\n",
      "mean of glucose+:  105.5625\n",
      "mean of glucose-:  88.23076923076923\n",
      "mean of insulin+:  12.51321875\n",
      "mean of insulin-:  6.933769230769231\n",
      "mean of homa+:  3.6233418198750003\n",
      "mean of homa-:  1.5523977114999998\n",
      "mean of leptin+:  26.596512499999996\n",
      "mean of leptin-:  26.63793269230769\n",
      "mean of adiponectin+:  10.061167421875\n",
      "mean of adiponectin-:  10.328205096153845\n",
      "mean of resistin+:  17.2537771875\n",
      "mean of resistin-:  11.61481346153846\n",
      "mean of mcp.1+:  563.0165\n",
      "mean of mcp.1-:  499.7306923076924\n"
     ]
    }
   ],
   "source": [
    "print(\"mean of age+: \",positive_sample[\"Age\"].mean())\n",
    "print(\"mean of age-: \",negative_sample[\"Age\"].mean())\n",
    "print(\"mean of bmi+: \",positive_sample[\"BMI\"].mean())\n",
    "print(\"mean of bmi-: \",negative_sample[\"BMI\"].mean())\n",
    "print(\"mean of glucose+: \",positive_sample[\"Glucose\"].mean())\n",
    "print(\"mean of glucose-: \",negative_sample[\"Glucose\"].mean())\n",
    "print(\"mean of insulin+: \",positive_sample[\"Insulin\"].mean())\n",
    "print(\"mean of insulin-: \",negative_sample[\"Insulin\"].mean())\n",
    "print(\"mean of homa+: \",positive_sample[\"HOMA\"].mean())\n",
    "print(\"mean of homa-: \",negative_sample[\"HOMA\"].mean())\n",
    "print(\"mean of leptin+: \",positive_sample[\"Leptin\"].mean())\n",
    "print(\"mean of leptin-: \",negative_sample[\"Leptin\"].mean())\n",
    "print(\"mean of adiponectin+: \",positive_sample[\"Adiponectin\"].mean())\n",
    "print(\"mean of adiponectin-: \",negative_sample[\"Adiponectin\"].mean())\n",
    "print(\"mean of resistin+: \",positive_sample[\"Resistin\"].mean())\n",
    "print(\"mean of resistin-: \",negative_sample[\"Resistin\"].mean())\n",
    "print(\"mean of mcp.1+: \",positive_sample[\"MCP.1\"].mean())\n",
    "print(\"mean of mcp.1-: \",negative_sample[\"MCP.1\"].mean())"
   ]
  },
  {
   "cell_type": "markdown",
   "metadata": {},
   "source": [
    "#### find SD"
   ]
  },
  {
   "cell_type": "code",
   "execution_count": 55,
   "metadata": {},
   "outputs": [
    {
     "data": {
      "text/plain": [
       "Age                13.493155\n",
       "BMI                 4.620398\n",
       "Glucose            26.557440\n",
       "Insulin            12.317738\n",
       "HOMA                4.588943\n",
       "Leptin             19.212451\n",
       "Adiponectin         6.189466\n",
       "Resistin           12.636979\n",
       "MCP.1             384.001622\n",
       "Classification      0.000000\n",
       "dtype: float64"
      ]
     },
     "execution_count": 55,
     "metadata": {},
     "output_type": "execute_result"
    }
   ],
   "source": [
    "positive_sample.std(axis = 0, skipna = True)"
   ]
  },
  {
   "cell_type": "code",
   "execution_count": 56,
   "metadata": {},
   "outputs": [
    {
     "data": {
      "text/plain": [
       "Age                18.957999\n",
       "BMI                 5.427465\n",
       "Glucose            10.191529\n",
       "Insulin             4.859793\n",
       "HOMA                1.218256\n",
       "Leptin             19.334699\n",
       "Adiponectin         7.631281\n",
       "Resistin           11.447053\n",
       "MCP.1             292.242157\n",
       "Classification      0.000000\n",
       "dtype: float64"
      ]
     },
     "execution_count": 56,
     "metadata": {},
     "output_type": "execute_result"
    }
   ],
   "source": [
    "negative_sample.std(axis = 0, skipna = True)"
   ]
  },
  {
   "cell_type": "markdown",
   "metadata": {},
   "source": [
    "#### find MIN and MAX"
   ]
  },
  {
   "cell_type": "code",
   "execution_count": 57,
   "metadata": {},
   "outputs": [
    {
     "name": "stdout",
     "output_type": "stream",
     "text": [
      "max of age+:  86\n",
      "max of age-:  89\n",
      "max of bmi+:  37.109375\n",
      "max of bmi-:  38.57875854\n",
      "max of glucose+:  201\n",
      "max of glucose-:  118\n",
      "max of insulin+:  58.46\n",
      "max of insulin-:  26.211\n",
      "max of homa+:  25.05034187\n",
      "max of homa-:  7.111917999999999\n",
      "max of leptin+:  90.28\n",
      "max of leptin-:  83.4821\n",
      "max of adiponectin+:  33.75\n",
      "max of adiponectin-:  38.04\n",
      "max of resistin+:  55.2153\n",
      "max of resistin-:  82.1\n",
      "max of mcp.1+:  1698.44\n",
      "max of mcp.1-:  1256.083\n"
     ]
    }
   ],
   "source": [
    "print(\"max of age+: \",positive_sample[\"Age\"].max())\n",
    "print(\"max of age-: \",negative_sample[\"Age\"].max())\n",
    "print(\"max of bmi+: \",positive_sample[\"BMI\"].max())\n",
    "print(\"max of bmi-: \",negative_sample[\"BMI\"].max())\n",
    "print(\"max of glucose+: \",positive_sample[\"Glucose\"].max())\n",
    "print(\"max of glucose-: \",negative_sample[\"Glucose\"].max())\n",
    "print(\"max of insulin+: \",positive_sample[\"Insulin\"].max())\n",
    "print(\"max of insulin-: \",negative_sample[\"Insulin\"].max())\n",
    "print(\"max of homa+: \",positive_sample[\"HOMA\"].max())\n",
    "print(\"max of homa-: \",negative_sample[\"HOMA\"].max())\n",
    "print(\"max of leptin+: \",positive_sample[\"Leptin\"].max())\n",
    "print(\"max of leptin-: \",negative_sample[\"Leptin\"].max())\n",
    "print(\"max of adiponectin+: \",positive_sample[\"Adiponectin\"].max())\n",
    "print(\"max of adiponectin-: \",negative_sample[\"Adiponectin\"].max())\n",
    "print(\"max of resistin+: \",positive_sample[\"Resistin\"].max())\n",
    "print(\"max of resistin-: \",negative_sample[\"Resistin\"].max())\n",
    "print(\"max of mcp.1+: \",positive_sample[\"MCP.1\"].max())\n",
    "print(\"max of mcp.1-: \",negative_sample[\"MCP.1\"].max())"
   ]
  },
  {
   "cell_type": "code",
   "execution_count": 58,
   "metadata": {},
   "outputs": [
    {
     "name": "stdout",
     "output_type": "stream",
     "text": [
      "min of age+:  34\n",
      "min of age-:  24\n",
      "min of bmi+:  18.37\n",
      "min of bmi-:  18.67\n",
      "min of glucose+:  70\n",
      "min of glucose-:  60\n",
      "min of insulin+:  2.432\n",
      "min of insulin-:  2.707\n",
      "min of homa+:  0.5079359999999999\n",
      "min of homa-:  0.46740866700000006\n",
      "min of leptin+:  6.3339\n",
      "min of leptin-:  4.311\n",
      "min of adiponectin+:  1.65602\n",
      "min of adiponectin-:  2.19428\n",
      "min of resistin+:  3.21\n",
      "min of resistin-:  3.29175\n",
      "min of mcp.1+:  90.09\n",
      "min of mcp.1-:  45.843\n"
     ]
    }
   ],
   "source": [
    "print(\"min of age+: \",positive_sample[\"Age\"].min())\n",
    "print(\"min of age-: \",negative_sample[\"Age\"].min())\n",
    "print(\"min of bmi+: \",positive_sample[\"BMI\"].min())\n",
    "print(\"min of bmi-: \",negative_sample[\"BMI\"].min())\n",
    "print(\"min of glucose+: \",positive_sample[\"Glucose\"].min())\n",
    "print(\"min of glucose-: \",negative_sample[\"Glucose\"].min())\n",
    "print(\"min of insulin+: \",positive_sample[\"Insulin\"].min())\n",
    "print(\"min of insulin-: \",negative_sample[\"Insulin\"].min())\n",
    "print(\"min of homa+: \",positive_sample[\"HOMA\"].min())\n",
    "print(\"min of homa-: \",negative_sample[\"HOMA\"].min())\n",
    "print(\"min of leptin+: \",positive_sample[\"Leptin\"].min())\n",
    "print(\"min of leptin-: \",negative_sample[\"Leptin\"].min())\n",
    "print(\"min of adiponectin+: \",positive_sample[\"Adiponectin\"].min())\n",
    "print(\"min of adiponectin-: \",negative_sample[\"Adiponectin\"].min())\n",
    "print(\"min of resistin+: \",positive_sample[\"Resistin\"].min())\n",
    "print(\"min of resistin-: \",negative_sample[\"Resistin\"].min())\n",
    "print(\"min of mcp.1+: \",positive_sample[\"MCP.1\"].min())\n",
    "print(\"min of mcp.1-: \",negative_sample[\"MCP.1\"].min())"
   ]
  },
  {
   "cell_type": "markdown",
   "metadata": {},
   "source": [
    "# Extract feature set and label set"
   ]
  },
  {
   "cell_type": "code",
   "execution_count": 40,
   "metadata": {},
   "outputs": [
    {
     "data": {
      "text/plain": [
       "(116, 9)"
      ]
     },
     "execution_count": 40,
     "metadata": {},
     "output_type": "execute_result"
    }
   ],
   "source": [
    "#extract the features for training\n",
    "train_feature = pd.DataFrame(df.iloc[:,:-1])\n",
    "#make sure the size of train_feature is correct\n",
    "train_feature.shape"
   ]
  },
  {
   "cell_type": "code",
   "execution_count": 41,
   "metadata": {},
   "outputs": [
    {
     "data": {
      "text/plain": [
       "(116, 1)"
      ]
     },
     "execution_count": 41,
     "metadata": {},
     "output_type": "execute_result"
    }
   ],
   "source": [
    "#extract the label for training\n",
    "train_label = pd.DataFrame(df.iloc[:,-1])\n",
    "#make sure the size of train_label is correct\n",
    "train_label.shape"
   ]
  },
  {
   "cell_type": "markdown",
   "metadata": {},
   "source": [
    "# Use Grid Search to Find Best Mtry and Ntree"
   ]
  },
  {
   "cell_type": "code",
   "execution_count": 42,
   "metadata": {},
   "outputs": [],
   "source": [
    "#get the number of features\n",
    "num_feature = len(train_feature.columns)"
   ]
  },
  {
   "cell_type": "code",
   "execution_count": 43,
   "metadata": {},
   "outputs": [],
   "source": [
    "#find three values of Mtry\n",
    "mtry_1 = 0.5 * math.sqrt(num_feature)\n",
    "mtry_2 = math.sqrt(num_feature)\n",
    "mtry_3 = 2 * math.sqrt(num_feature)"
   ]
  },
  {
   "cell_type": "code",
   "execution_count": 44,
   "metadata": {},
   "outputs": [
    {
     "data": {
      "text/plain": [
       "1.5"
      ]
     },
     "execution_count": 44,
     "metadata": {},
     "output_type": "execute_result"
    }
   ],
   "source": [
    "#take the value of mtry_1 as 2 to let the input of max_feature be int\n",
    "mtry_1"
   ]
  },
  {
   "cell_type": "code",
   "execution_count": 45,
   "metadata": {},
   "outputs": [
    {
     "data": {
      "text/plain": [
       "3.0"
      ]
     },
     "execution_count": 45,
     "metadata": {},
     "output_type": "execute_result"
    }
   ],
   "source": [
    "#take the value of mtry_2 as 3 to let the input of max_feature be int\n",
    "mtry_2"
   ]
  },
  {
   "cell_type": "code",
   "execution_count": 46,
   "metadata": {},
   "outputs": [
    {
     "data": {
      "text/plain": [
       "6.0"
      ]
     },
     "execution_count": 46,
     "metadata": {},
     "output_type": "execute_result"
    }
   ],
   "source": [
    "#take the value of mtry_3 as 6 to let the input of max_feature be int\n",
    "mtry_3"
   ]
  },
  {
   "cell_type": "code",
   "execution_count": 47,
   "metadata": {},
   "outputs": [],
   "source": [
    "#parameters list for tuning\n",
    "mtry = [2,3,6]\n",
    "ntree = [500,1000]"
   ]
  },
  {
   "cell_type": "code",
   "execution_count": 48,
   "metadata": {},
   "outputs": [
    {
     "name": "stderr",
     "output_type": "stream",
     "text": [
      "/Users/nianziyi/opt/anaconda3/envs/py3/lib/python3.6/site-packages/ipykernel_launcher.py:9: DataConversionWarning: A column-vector y was passed when a 1d array was expected. Please change the shape of y to (n_samples,), for example using ravel().\n",
      "  if __name__ == '__main__':\n"
     ]
    },
    {
     "name": "stdout",
     "output_type": "stream",
     "text": [
      "nTree =  500      mTry =  2\n",
      "F1:  0.725925925925926\n"
     ]
    },
    {
     "name": "stderr",
     "output_type": "stream",
     "text": [
      "/Users/nianziyi/opt/anaconda3/envs/py3/lib/python3.6/site-packages/ipykernel_launcher.py:9: DataConversionWarning: A column-vector y was passed when a 1d array was expected. Please change the shape of y to (n_samples,), for example using ravel().\n",
      "  if __name__ == '__main__':\n"
     ]
    },
    {
     "name": "stdout",
     "output_type": "stream",
     "text": [
      "nTree =  500      mTry =  3\n",
      "F1:  0.7669172932330827\n"
     ]
    },
    {
     "name": "stderr",
     "output_type": "stream",
     "text": [
      "/Users/nianziyi/opt/anaconda3/envs/py3/lib/python3.6/site-packages/ipykernel_launcher.py:9: DataConversionWarning: A column-vector y was passed when a 1d array was expected. Please change the shape of y to (n_samples,), for example using ravel().\n",
      "  if __name__ == '__main__':\n"
     ]
    },
    {
     "name": "stdout",
     "output_type": "stream",
     "text": [
      "nTree =  500      mTry =  6\n",
      "F1:  0.8181818181818182\n"
     ]
    },
    {
     "name": "stderr",
     "output_type": "stream",
     "text": [
      "/Users/nianziyi/opt/anaconda3/envs/py3/lib/python3.6/site-packages/ipykernel_launcher.py:9: DataConversionWarning: A column-vector y was passed when a 1d array was expected. Please change the shape of y to (n_samples,), for example using ravel().\n",
      "  if __name__ == '__main__':\n"
     ]
    },
    {
     "name": "stdout",
     "output_type": "stream",
     "text": [
      "nTree =  1000      mTry =  2\n",
      "F1:  0.7407407407407407\n"
     ]
    },
    {
     "name": "stderr",
     "output_type": "stream",
     "text": [
      "/Users/nianziyi/opt/anaconda3/envs/py3/lib/python3.6/site-packages/ipykernel_launcher.py:9: DataConversionWarning: A column-vector y was passed when a 1d array was expected. Please change the shape of y to (n_samples,), for example using ravel().\n",
      "  if __name__ == '__main__':\n"
     ]
    },
    {
     "name": "stdout",
     "output_type": "stream",
     "text": [
      "nTree =  1000      mTry =  3\n",
      "F1:  0.7761194029850748\n"
     ]
    },
    {
     "name": "stderr",
     "output_type": "stream",
     "text": [
      "/Users/nianziyi/opt/anaconda3/envs/py3/lib/python3.6/site-packages/ipykernel_launcher.py:9: DataConversionWarning: A column-vector y was passed when a 1d array was expected. Please change the shape of y to (n_samples,), for example using ravel().\n",
      "  if __name__ == '__main__':\n"
     ]
    },
    {
     "name": "stdout",
     "output_type": "stream",
     "text": [
      "nTree =  1000      mTry =  6\n",
      "F1:  0.8059701492537314\n"
     ]
    }
   ],
   "source": [
    "#do grid search \n",
    "for i in range (2):\n",
    "    for j in range (3):\n",
    "        nTree = ntree[i]\n",
    "        mTry = mtry[j]\n",
    "        #create a RF model\n",
    "        model = RandomForestClassifier(n_estimators=nTree, max_features=mTry, oob_score= True, random_state = 0)\n",
    "        #train the RF model\n",
    "        model.fit(train_feature, train_label)\n",
    "        #use decision funciton estimated on training set to find prediction based on training set\n",
    "        prediction = np.argmax(model.oob_decision_function_, axis = 1)\n",
    "        #print out ntree value and mtry value with their corresponding f1 score\n",
    "        print(\"nTree = \", nTree, \"     mTry = \" , mTry)\n",
    "        print(\"F1: \", f1_score(train_label, prediction))"
   ]
  },
  {
   "cell_type": "markdown",
   "metadata": {},
   "source": [
    "# Use the Best Mtry and Ntree to Create the Best RF Model"
   ]
  },
  {
   "cell_type": "code",
   "execution_count": 49,
   "metadata": {},
   "outputs": [
    {
     "name": "stderr",
     "output_type": "stream",
     "text": [
      "/Users/nianziyi/opt/anaconda3/envs/py3/lib/python3.6/site-packages/ipykernel_launcher.py:4: DataConversionWarning: A column-vector y was passed when a 1d array was expected. Please change the shape of y to (n_samples,), for example using ravel().\n",
      "  after removing the cwd from sys.path.\n"
     ]
    },
    {
     "data": {
      "text/plain": [
       "RandomForestClassifier(max_features=6, n_estimators=500, oob_score=True,\n",
       "                       random_state=0)"
      ]
     },
     "execution_count": 49,
     "metadata": {},
     "output_type": "execute_result"
    }
   ],
   "source": [
    "#use the best split to create best RF model\n",
    "model = RandomForestClassifier(random_state = 0, max_features = 6, n_estimators = 500,oob_score = True)\n",
    "#apply the training data to the model\n",
    "model.fit(train_feature, train_label)"
   ]
  },
  {
   "cell_type": "markdown",
   "metadata": {},
   "source": [
    "# Evaluate the Best RF Classifier Model"
   ]
  },
  {
   "cell_type": "code",
   "execution_count": 50,
   "metadata": {},
   "outputs": [],
   "source": [
    "#get prediction based on oob of training set\n",
    "prediction = np.argmax(model.oob_decision_function_, axis = 1)"
   ]
  },
  {
   "cell_type": "markdown",
   "metadata": {},
   "source": [
    "## Confusion Matrix"
   ]
  },
  {
   "cell_type": "code",
   "execution_count": 51,
   "metadata": {},
   "outputs": [
    {
     "data": {
      "image/png": "[encoded data removed]",
      "text/plain": [
       "<Figure size 432x288 with 2 Axes>"
      ]
     },
     "metadata": {
      "needs_background": "light"
     },
     "output_type": "display_data"
    }
   ],
   "source": [
    "cm = confusion_matrix(train_label, prediction)\n",
    "disp = ConfusionMatrixDisplay(confusion_matrix = cm, display_labels = ['negative', 'positive'])\n",
    "disp.plot()\n",
    "plt.show()"
   ]
  },
  {
   "cell_type": "markdown",
   "metadata": {},
   "source": [
    "## F1 Score"
   ]
  },
  {
   "cell_type": "code",
   "execution_count": 52,
   "metadata": {},
   "outputs": [
    {
     "name": "stdout",
     "output_type": "stream",
     "text": [
      "F1 Score:  0.8181818181818182\n"
     ]
    }
   ],
   "source": [
    "#prediction is based on training set\n",
    "#get F1 score based on training phase\n",
    "print('F1 Score: ', f1_score(train_label, prediction))"
   ]
  },
  {
   "cell_type": "markdown",
   "metadata": {},
   "source": [
    "## OOB Score"
   ]
  },
  {
   "cell_type": "code",
   "execution_count": 59,
   "metadata": {},
   "outputs": [
    {
     "name": "stdout",
     "output_type": "stream",
     "text": [
      "OOB Score:  0.7931034482758621\n"
     ]
    }
   ],
   "source": [
    "#get OOB score based on training phase\n",
    "print('OOB Score: ', model.oob_score_)"
   ]
  },
  {
   "cell_type": "markdown",
   "metadata": {},
   "source": [
    "## Accuracy"
   ]
  },
  {
   "cell_type": "code",
   "execution_count": 60,
   "metadata": {},
   "outputs": [
    {
     "data": {
      "text/plain": [
       "0.7931034482758621"
      ]
     },
     "execution_count": 60,
     "metadata": {},
     "output_type": "execute_result"
    }
   ],
   "source": [
    "#get the accuracy of trained RF model\n",
    "accuracy_score(train_label, prediction)"
   ]
  },
  {
   "cell_type": "markdown",
   "metadata": {},
   "source": [
    "## Feature Ranking"
   ]
  },
  {
   "cell_type": "code",
   "execution_count": 63,
   "metadata": {},
   "outputs": [
    {
     "data": {
      "text/plain": [
       "[('Glucose', 0.22763148138007147),\n",
       " ('Resistin', 0.15216146844477346),\n",
       " ('BMI', 0.14295925304554677),\n",
       " ('Age', 0.13365917453644227),\n",
       " ('HOMA', 0.0808891523147242),\n",
       " ('Leptin', 0.0750579365989072),\n",
       " ('Insulin', 0.06763327073708585),\n",
       " ('Adiponectin', 0.06588999639426381),\n",
       " ('MCP.1', 0.054118266548184996)]"
      ]
     },
     "execution_count": 63,
     "metadata": {},
     "output_type": "execute_result"
    }
   ],
   "source": [
    "#get the idex of top 10 features \n",
    "index = np.argsort(model.feature_importances_)[-9:].tolist()\n",
    "#reverse the index list (=index.T)\n",
    "index.reverse()\n",
    "#get the top 10 features according to the index list\n",
    "top_feature = [(train_feature.columns[idx], model.feature_importances_[idx]) for idx in index]\n",
    "#display the top_feature list\n",
    "top_feature"
   ]
  },
  {
   "cell_type": "code",
   "execution_count": 64,
   "metadata": {},
   "outputs": [
    {
     "data": {
      "text/plain": [
       "Text(0, 0.5, 'Feature Name')"
      ]
     },
     "execution_count": 64,
     "metadata": {},
     "output_type": "execute_result"
    },
    {
     "data": {
      "image/png": "[encoded data removed]",
      "text/plain": [
       "<Figure size 432x288 with 1 Axes>"
      ]
     },
     "metadata": {
      "needs_background": "light"
     },
     "output_type": "display_data"
    }
   ],
   "source": [
    "#draw a bar chart to make it more clear\n",
    "plt.barh(train_feature.columns[index], model.feature_importances_[index])\n",
    "plt.gca().invert_yaxis()\n",
    "plt.xlabel(\"RF Feature Importance\")\n",
    "plt.ylabel(\"Feature Name\")"
   ]
  },
  {
   "cell_type": "markdown",
   "metadata": {},
   "source": [
    "# RFEX Model Explainer"
   ]
  },
  {
   "cell_type": "markdown",
   "metadata": {},
   "source": [
    "## Cumulative F1 score "
   ]
  },
  {
   "cell_type": "markdown",
   "metadata": {},
   "source": [
    "### top 4 feature"
   ]
  },
  {
   "cell_type": "code",
   "execution_count": 65,
   "metadata": {},
   "outputs": [],
   "source": [
    "train_feature_top_4 = train_feature[['Glucose','Resistin','BMI','Age']]"
   ]
  },
  {
   "cell_type": "code",
   "execution_count": 66,
   "metadata": {},
   "outputs": [],
   "source": [
    "#get the number of features\n",
    "num_feature = len(train_feature_top_4.columns)"
   ]
  },
  {
   "cell_type": "code",
   "execution_count": 67,
   "metadata": {},
   "outputs": [],
   "source": [
    "#find three values of Mtry\n",
    "mtry_1 = 0.5 * math.sqrt(num_feature)\n",
    "mtry_2 = math.sqrt(num_feature)\n",
    "mtry_3 = 2 * math.sqrt(num_feature)"
   ]
  },
  {
   "cell_type": "code",
   "execution_count": 68,
   "metadata": {},
   "outputs": [],
   "source": [
    "#parameters list for tuning\n",
    "mtry_4 = [1,2,3]\n",
    "ntree_4 = [500,1000]"
   ]
  },
  {
   "cell_type": "code",
   "execution_count": 69,
   "metadata": {},
   "outputs": [
    {
     "name": "stderr",
     "output_type": "stream",
     "text": [
      "/Users/nianziyi/opt/anaconda3/envs/py3/lib/python3.6/site-packages/ipykernel_launcher.py:9: DataConversionWarning: A column-vector y was passed when a 1d array was expected. Please change the shape of y to (n_samples,), for example using ravel().\n",
      "  if __name__ == '__main__':\n"
     ]
    },
    {
     "name": "stdout",
     "output_type": "stream",
     "text": [
      "nTree =  500      mTry =  1\n",
      "F1:  0.7938931297709924\n"
     ]
    },
    {
     "name": "stderr",
     "output_type": "stream",
     "text": [
      "/Users/nianziyi/opt/anaconda3/envs/py3/lib/python3.6/site-packages/ipykernel_launcher.py:9: DataConversionWarning: A column-vector y was passed when a 1d array was expected. Please change the shape of y to (n_samples,), for example using ravel().\n",
      "  if __name__ == '__main__':\n"
     ]
    },
    {
     "name": "stdout",
     "output_type": "stream",
     "text": [
      "nTree =  500      mTry =  2\n",
      "F1:  0.8333333333333333\n"
     ]
    },
    {
     "name": "stderr",
     "output_type": "stream",
     "text": [
      "/Users/nianziyi/opt/anaconda3/envs/py3/lib/python3.6/site-packages/ipykernel_launcher.py:9: DataConversionWarning: A column-vector y was passed when a 1d array was expected. Please change the shape of y to (n_samples,), for example using ravel().\n",
      "  if __name__ == '__main__':\n"
     ]
    },
    {
     "name": "stdout",
     "output_type": "stream",
     "text": [
      "nTree =  500      mTry =  3\n",
      "F1:  0.8244274809160305\n"
     ]
    },
    {
     "name": "stderr",
     "output_type": "stream",
     "text": [
      "/Users/nianziyi/opt/anaconda3/envs/py3/lib/python3.6/site-packages/ipykernel_launcher.py:9: DataConversionWarning: A column-vector y was passed when a 1d array was expected. Please change the shape of y to (n_samples,), for example using ravel().\n",
      "  if __name__ == '__main__':\n"
     ]
    },
    {
     "name": "stdout",
     "output_type": "stream",
     "text": [
      "nTree =  1000      mTry =  1\n",
      "F1:  0.8181818181818182\n"
     ]
    },
    {
     "name": "stderr",
     "output_type": "stream",
     "text": [
      "/Users/nianziyi/opt/anaconda3/envs/py3/lib/python3.6/site-packages/ipykernel_launcher.py:9: DataConversionWarning: A column-vector y was passed when a 1d array was expected. Please change the shape of y to (n_samples,), for example using ravel().\n",
      "  if __name__ == '__main__':\n"
     ]
    },
    {
     "name": "stdout",
     "output_type": "stream",
     "text": [
      "nTree =  1000      mTry =  2\n",
      "F1:  0.8208955223880597\n"
     ]
    },
    {
     "name": "stderr",
     "output_type": "stream",
     "text": [
      "/Users/nianziyi/opt/anaconda3/envs/py3/lib/python3.6/site-packages/ipykernel_launcher.py:9: DataConversionWarning: A column-vector y was passed when a 1d array was expected. Please change the shape of y to (n_samples,), for example using ravel().\n",
      "  if __name__ == '__main__':\n"
     ]
    },
    {
     "name": "stdout",
     "output_type": "stream",
     "text": [
      "nTree =  1000      mTry =  3\n",
      "F1:  0.8181818181818182\n"
     ]
    }
   ],
   "source": [
    "#do grid search \n",
    "for i in range (2):\n",
    "    for j in range (3):\n",
    "        nTree = ntree_4[i]\n",
    "        mTry = mtry_4[j]\n",
    "        #create a RF model\n",
    "        model = RandomForestClassifier(n_estimators=nTree, max_features=mTry, oob_score= True, random_state = 0)\n",
    "        #train the RF model\n",
    "        model.fit(train_feature_top_4, train_label)\n",
    "        #use decision funciton estimated on training set to find prediction based on training set\n",
    "        prediction = np.argmax(model.oob_decision_function_, axis = 1)\n",
    "        #print out ntree value and mtry value with their corresponding f1 score\n",
    "        print(\"nTree = \", nTree, \"     mTry = \" , mTry)\n",
    "        print(\"F1: \", f1_score(train_label, prediction))"
   ]
  },
  {
   "cell_type": "code",
   "execution_count": 70,
   "metadata": {},
   "outputs": [
    {
     "name": "stderr",
     "output_type": "stream",
     "text": [
      "/Users/nianziyi/opt/anaconda3/envs/py3/lib/python3.6/site-packages/ipykernel_launcher.py:4: DataConversionWarning: A column-vector y was passed when a 1d array was expected. Please change the shape of y to (n_samples,), for example using ravel().\n",
      "  after removing the cwd from sys.path.\n"
     ]
    },
    {
     "data": {
      "text/plain": [
       "RandomForestClassifier(max_features=2, n_estimators=500, oob_score=True,\n",
       "                       random_state=0)"
      ]
     },
     "execution_count": 70,
     "metadata": {},
     "output_type": "execute_result"
    }
   ],
   "source": [
    "#use the best split to create best RF model\n",
    "model_4 = RandomForestClassifier(random_state = 0, max_features = 2, n_estimators = 500,oob_score = True)\n",
    "#apply the training data to the model\n",
    "model_4.fit(train_feature_top_4, train_label)"
   ]
  },
  {
   "cell_type": "code",
   "execution_count": 71,
   "metadata": {},
   "outputs": [],
   "source": [
    "#get prediction based on oob of training set\n",
    "prediction_4 = np.argmax(model_4.oob_decision_function_, axis = 1)"
   ]
  },
  {
   "cell_type": "code",
   "execution_count": 72,
   "metadata": {},
   "outputs": [
    {
     "data": {
      "image/png": "[encoded data removed]",
      "text/plain": [
       "<Figure size 432x288 with 2 Axes>"
      ]
     },
     "metadata": {
      "needs_background": "light"
     },
     "output_type": "display_data"
    }
   ],
   "source": [
    "#plot confusion matrix\n",
    "cm_4 = confusion_matrix(train_label, prediction_4)\n",
    "disp_4 = ConfusionMatrixDisplay(confusion_matrix = cm_4, display_labels = ['negative', 'positive'])\n",
    "disp_4.plot()\n",
    "plt.show()"
   ]
  },
  {
   "cell_type": "code",
   "execution_count": 73,
   "metadata": {},
   "outputs": [
    {
     "name": "stdout",
     "output_type": "stream",
     "text": [
      "F1 Score for top 4 ranked features:  0.8333333333333333\n"
     ]
    }
   ],
   "source": [
    "#prediction is based on training set\n",
    "#get F1 score based on training phase\n",
    "print('F1 Score for top 4 ranked features: ', f1_score(train_label, prediction_4))"
   ]
  },
  {
   "cell_type": "markdown",
   "metadata": {},
   "source": [
    "### top 7 feature"
   ]
  },
  {
   "cell_type": "code",
   "execution_count": 74,
   "metadata": {},
   "outputs": [],
   "source": [
    "train_feature_top_7 = train_feature[['Glucose','Resistin','BMI','Age','HOMA','Leptin','Insulin']]"
   ]
  },
  {
   "cell_type": "code",
   "execution_count": 75,
   "metadata": {},
   "outputs": [],
   "source": [
    "#get the number of features\n",
    "num_feature = len(train_feature_top_7.columns)"
   ]
  },
  {
   "cell_type": "code",
   "execution_count": 76,
   "metadata": {},
   "outputs": [],
   "source": [
    "#find three values of Mtry\n",
    "mtry_1 = 0.5 * math.sqrt(num_feature)\n",
    "mtry_2 = math.sqrt(num_feature)\n",
    "mtry_3 = 2 * math.sqrt(num_feature)"
   ]
  },
  {
   "cell_type": "code",
   "execution_count": 77,
   "metadata": {},
   "outputs": [],
   "source": [
    "#parameters list for tuning\n",
    "mtry_7 = [2,3,4]\n",
    "ntree_7 = [500,1000]"
   ]
  },
  {
   "cell_type": "code",
   "execution_count": 78,
   "metadata": {},
   "outputs": [
    {
     "name": "stderr",
     "output_type": "stream",
     "text": [
      "/Users/nianziyi/opt/anaconda3/envs/py3/lib/python3.6/site-packages/ipykernel_launcher.py:9: DataConversionWarning: A column-vector y was passed when a 1d array was expected. Please change the shape of y to (n_samples,), for example using ravel().\n",
      "  if __name__ == '__main__':\n"
     ]
    },
    {
     "name": "stdout",
     "output_type": "stream",
     "text": [
      "nTree =  500      mTry =  2\n",
      "F1:  0.7555555555555555\n"
     ]
    },
    {
     "name": "stderr",
     "output_type": "stream",
     "text": [
      "/Users/nianziyi/opt/anaconda3/envs/py3/lib/python3.6/site-packages/ipykernel_launcher.py:9: DataConversionWarning: A column-vector y was passed when a 1d array was expected. Please change the shape of y to (n_samples,), for example using ravel().\n",
      "  if __name__ == '__main__':\n"
     ]
    },
    {
     "name": "stdout",
     "output_type": "stream",
     "text": [
      "nTree =  500      mTry =  3\n",
      "F1:  0.7969924812030075\n"
     ]
    },
    {
     "name": "stderr",
     "output_type": "stream",
     "text": [
      "/Users/nianziyi/opt/anaconda3/envs/py3/lib/python3.6/site-packages/ipykernel_launcher.py:9: DataConversionWarning: A column-vector y was passed when a 1d array was expected. Please change the shape of y to (n_samples,), for example using ravel().\n",
      "  if __name__ == '__main__':\n"
     ]
    },
    {
     "name": "stdout",
     "output_type": "stream",
     "text": [
      "nTree =  500      mTry =  4\n",
      "F1:  0.8030303030303031\n"
     ]
    },
    {
     "name": "stderr",
     "output_type": "stream",
     "text": [
      "/Users/nianziyi/opt/anaconda3/envs/py3/lib/python3.6/site-packages/ipykernel_launcher.py:9: DataConversionWarning: A column-vector y was passed when a 1d array was expected. Please change the shape of y to (n_samples,), for example using ravel().\n",
      "  if __name__ == '__main__':\n"
     ]
    },
    {
     "name": "stdout",
     "output_type": "stream",
     "text": [
      "nTree =  1000      mTry =  2\n",
      "F1:  0.7794117647058824\n"
     ]
    },
    {
     "name": "stderr",
     "output_type": "stream",
     "text": [
      "/Users/nianziyi/opt/anaconda3/envs/py3/lib/python3.6/site-packages/ipykernel_launcher.py:9: DataConversionWarning: A column-vector y was passed when a 1d array was expected. Please change the shape of y to (n_samples,), for example using ravel().\n",
      "  if __name__ == '__main__':\n"
     ]
    },
    {
     "name": "stdout",
     "output_type": "stream",
     "text": [
      "nTree =  1000      mTry =  3\n",
      "F1:  0.7941176470588235\n"
     ]
    },
    {
     "name": "stderr",
     "output_type": "stream",
     "text": [
      "/Users/nianziyi/opt/anaconda3/envs/py3/lib/python3.6/site-packages/ipykernel_launcher.py:9: DataConversionWarning: A column-vector y was passed when a 1d array was expected. Please change the shape of y to (n_samples,), for example using ravel().\n",
      "  if __name__ == '__main__':\n"
     ]
    },
    {
     "name": "stdout",
     "output_type": "stream",
     "text": [
      "nTree =  1000      mTry =  4\n",
      "F1:  0.8030303030303031\n"
     ]
    }
   ],
   "source": [
    "#do grid search \n",
    "for i in range (2):\n",
    "    for j in range (3):\n",
    "        nTree = ntree_7[i]\n",
    "        mTry = mtry_7[j]\n",
    "        #create a RF model\n",
    "        model = RandomForestClassifier(n_estimators=nTree, max_features=mTry, oob_score= True, random_state = 0)\n",
    "        #train the RF model\n",
    "        model.fit(train_feature_top_7, train_label)\n",
    "        #use decision funciton estimated on training set to find prediction based on training set\n",
    "        prediction = np.argmax(model.oob_decision_function_, axis = 1)\n",
    "        #print out ntree value and mtry value with their corresponding f1 score\n",
    "        print(\"nTree = \", nTree, \"     mTry = \" , mTry)\n",
    "        print(\"F1: \", f1_score(train_label, prediction))"
   ]
  },
  {
   "cell_type": "code",
   "execution_count": 44,
   "metadata": {},
   "outputs": [
    {
     "name": "stderr",
     "output_type": "stream",
     "text": [
      "/Users/nianziyi/opt/anaconda3/envs/py3/lib/python3.6/site-packages/ipykernel_launcher.py:4: DataConversionWarning: A column-vector y was passed when a 1d array was expected. Please change the shape of y to (n_samples,), for example using ravel().\n",
      "  after removing the cwd from sys.path.\n"
     ]
    },
    {
     "data": {
      "text/plain": [
       "RandomForestClassifier(max_features=4, n_estimators=500, oob_score=True,\n",
       "                       random_state=0)"
      ]
     },
     "execution_count": 44,
     "metadata": {},
     "output_type": "execute_result"
    }
   ],
   "source": [
    "#use the best split to create best RF model\n",
    "model_7 = RandomForestClassifier(random_state = 0, max_features = 4, n_estimators = 500,oob_score = True)\n",
    "#apply the training data to the model\n",
    "model_7.fit(train_feature_top_7, train_label)"
   ]
  },
  {
   "cell_type": "code",
   "execution_count": 45,
   "metadata": {},
   "outputs": [],
   "source": [
    "#get prediction based on oob of training set\n",
    "prediction_7 = np.argmax(model_7.oob_decision_function_, axis = 1)"
   ]
  },
  {
   "cell_type": "code",
   "execution_count": 46,
   "metadata": {},
   "outputs": [
    {
     "data": {
      "image/png": "[encoded data removed]",
      "text/plain": [
       "<Figure size 432x288 with 2 Axes>"
      ]
     },
     "metadata": {
      "needs_background": "light"
     },
     "output_type": "display_data"
    }
   ],
   "source": [
    "#plot confusion matrix\n",
    "cm_7 = confusion_matrix(train_label, prediction_7)\n",
    "disp_7 = ConfusionMatrixDisplay(confusion_matrix = cm_7, display_labels = ['positive', 'negative'])\n",
    "disp_7.plot()\n",
    "plt.show()"
   ]
  },
  {
   "cell_type": "code",
   "execution_count": 47,
   "metadata": {},
   "outputs": [
    {
     "name": "stdout",
     "output_type": "stream",
     "text": [
      "F1 Score for top 7 ranked features:  0.8030303030303031\n"
     ]
    }
   ],
   "source": [
    "#prediction is based on training set\n",
    "#get F1 score based on training phase\n",
    "print('F1 Score for top 7 ranked features: ', f1_score(train_label, prediction_7))"
   ]
  },
  {
   "cell_type": "code",
   "execution_count": null,
   "metadata": {},
   "outputs": [],
   "source": []
  },
  {
   "cell_type": "code",
   "execution_count": null,
   "metadata": {},
   "outputs": [],
   "source": []
  }
 ],
 "metadata": {
  "kernelspec": {
   "display_name": "py3",
   "language": "python",
   "name": "py3"
  },
  "language_info": {
   "codemirror_mode": {
    "name": "ipython",
    "version": 3
   },
   "file_extension": ".py",
   "mimetype": "text/x-python",
   "name": "python",
   "nbconvert_exporter": "python",
   "pygments_lexer": "ipython3",
   "version": "3.6.10"
  }
 },
 "nbformat": 4,
 "nbformat_minor": 4
}
